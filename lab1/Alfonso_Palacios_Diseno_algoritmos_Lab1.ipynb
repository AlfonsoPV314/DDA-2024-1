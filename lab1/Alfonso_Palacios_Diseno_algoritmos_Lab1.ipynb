{
  "cells": [
    {
      "cell_type": "markdown",
      "metadata": {
        "id": "SR5PTyNH157w"
      },
      "source": [
        "# Laboratorio 1 Diseño de Algoritmos\n",
        "\n",
        "Conteste todas las preguntas y luego suba el notebook solucionado a uvirtual."
      ]
    },
    {
      "cell_type": "markdown",
      "metadata": {
        "id": "PClWfWkCRbZw"
      },
      "source": [
        "\n",
        "**Pregunta 1:** Escriba el pseudocodigo de un algoritmo **iterativo** que reciba como parámetro un arreglo y un número entero x mayor que 1 y entregue como salida la cantidad de elementos del arreglo que son divisibles por x."
      ]
    },
    {
      "cell_type": "markdown",
      "metadata": {
        "id": "0A2kZMVndoF5"
      },
      "source": [
        "divisorArreglo(A[1,...,n], x)\n",
        "\tresultado = 0\n",
        "\tpara i = 0 hasta n - 1\n",
        "\t\tif A[i] MOD x == 0: \n",
        "\t\t\tresultado += 1\n",
        "\tretornar resultado"
      ]
    },
    {
      "cell_type": "markdown",
      "metadata": {
        "id": "kq_bfR92Jt3Z"
      },
      "source": [
        "**Pregunta 2:** Calcule la complejidad de su algoritmo en el peor caso.\n",
        "\n",
        "\n"
      ]
    },
    {
      "cell_type": "markdown",
      "metadata": {
        "id": "bYIgzNoadpff"
      },
      "source": [
        "T(n) = 7n + 5 => O(n)"
      ]
    },
    {
      "cell_type": "markdown",
      "metadata": {
        "id": "VUDHKXQudi0D"
      },
      "source": [
        "**Pregunta 3:** Implemente su algoritmo. Cree una instancia del problema y pruebelo."
      ]
    },
    {
      "cell_type": "code",
      "execution_count": 59,
      "metadata": {
        "id": "38RhJbykdpB7"
      },
      "outputs": [
        {
          "name": "stdout",
          "output_type": "stream",
          "text": [
            "2\n"
          ]
        }
      ],
      "source": [
        "def divisorArreglo_Iter(A, x):\n",
        "  i = 0\n",
        "  resultado = 0\n",
        "  for i in range(len(A)):\n",
        "    if A[i]%x == 0:\n",
        "      resultado += 1\n",
        "  return resultado\n",
        "print(divisorArreglo_Iter([0, 314, 92, 14, 27], 3))"
      ]
    },
    {
      "cell_type": "markdown",
      "metadata": {
        "id": "7MQzDOcnL51p"
      },
      "source": [
        "**Pregunta 4:** Escriba pseudocodigo de una versión recursiva de su algoritmo."
      ]
    },
    {
      "cell_type": "markdown",
      "metadata": {
        "id": "bEG4UYEFc-xH"
      },
      "source": [
        "divisorArreglo_Rec(A[1,...,n], x, i, resultado)\n",
        "\tif i==len(A):\n",
        "\t\treturn resultado\n",
        "\telse\n",
        "\t\tif A[i] MOD x ==0:\n",
        "\t\t\tresultado += 1\n",
        "\treturn divisorArreglo_Rec(A, x, i+1, resultado)"
      ]
    },
    {
      "cell_type": "markdown",
      "metadata": {
        "id": "F_NgGqTHdggg"
      },
      "source": [
        "**Pregunta 5:** Escriba la ecuación para determinar la complejidad de su algoritmo recursivo y calcule esta complejidad."
      ]
    },
    {
      "cell_type": "markdown",
      "metadata": {
        "id": "LSnwoDeBd6DR"
      },
      "source": [
        "T(n) = 6 + T(n-1) = 6 + 6 + T(n-2) = ... = 6k + T(n-k) => a = 1; k = 0 => O(n^1) = O(n)"
      ]
    },
    {
      "cell_type": "markdown",
      "metadata": {
        "id": "AkDlN8y3efh1"
      },
      "source": [
        "**Pregunta 6:**  Implemente su algoritmo recursivo. Cree una instancia del problema y pruebelo."
      ]
    },
    {
      "cell_type": "code",
      "execution_count": 60,
      "metadata": {
        "id": "8ogRa1_sd_No"
      },
      "outputs": [
        {
          "name": "stdout",
          "output_type": "stream",
          "text": [
            "4\n"
          ]
        }
      ],
      "source": [
        "def divisorArreglo_Rec(A, x, i=0, resultado=0):\n",
        "  if i == len(A):\n",
        "    return resultado\n",
        "  elif A[i]%x == 0:\n",
        "    resultado += 1\n",
        "  return divisorArreglo_Rec(A, x, i+1, resultado)\n",
        "print(divisorArreglo_Rec([0, 3, 3, 3], 3))"
      ]
    },
    {
      "cell_type": "markdown",
      "metadata": {
        "id": "va8iRMQqdxPL"
      },
      "source": [
        "**Pregunta 7:** Mida el tiempo de ejecución de sus algoritmos con arreglos de distinto tamaño. Use arreglos de tamaño 10.000, 20.000, 30.000 y 40.000. Por cada tamaño corra 100 pruebas con arreglos aleatorios diferentes.\n",
        "\n",
        "Para medir el tiempo de ejecución debe primero importar time\n",
        "\n",
        "import time\n",
        "\n",
        "y luego usar time.perf_counter()\n",
        "\n",
        "```\n",
        "t1 = time.perf_counter()\n",
        "\n",
        "#Aqui va su codigo\n",
        "\n",
        "t2 = time.perf_counter()\n",
        "print('Tiempo de ejecucion:',t2-t1)\n",
        "```\n",
        "\n",
        "Almacene los tiempos de ejecución en un arreglo.\n",
        "Mida el tiempo de cada ejecucion independientemente."
      ]
    },
    {
      "cell_type": "code",
      "execution_count": 61,
      "metadata": {
        "id": "pD_R3fd6N0d6"
      },
      "outputs": [],
      "source": [
        "import random, time, sys \n",
        "\n",
        "def divisorArreglo_Rec(A, x, i=0, resultado=0):\n",
        "  if i == len(A):\n",
        "    return resultado\n",
        "  elif A[i]%x == 0:\n",
        "    resultado += 1\n",
        "  return divisorArreglo_Rec(A, x, i+1, resultado)\n",
        "\n",
        "def divisorArreglo_Iter(A, x):\n",
        "  i = 0\n",
        "  resultado = 0\n",
        "  for i in range(len(A)):\n",
        "    if A[i]%x == 0:\n",
        "      resultado += 1\n",
        "  return resultado\n",
        "\n",
        "sys.setrecursionlimit(50000)\n",
        "def crearArreglo(largo):\n",
        "  i = 0\n",
        "  A = []\n",
        "  while i<largo:\n",
        "    A.append(random.randint(0,3))\n",
        "    i+=1\n",
        "  return A\n",
        "\n",
        "def tomarTiempos(largoArreglo, cantVeces):\n",
        "  i = 0\n",
        "  tiempos_Rec = []\n",
        "  tiempos_Iter = []\n",
        "  while i<cantVeces:\n",
        "    Arreglo = crearArreglo(largoArreglo)\n",
        "\n",
        "    t1 = time.perf_counter()\n",
        "    aux = divisorArreglo_Rec(Arreglo, 3)\n",
        "    t2 = time.perf_counter()\n",
        "    tiempos_Rec.append(t2-t1)\n",
        "\n",
        "    t3 = time.perf_counter()\n",
        "    aux = divisorArreglo_Iter(Arreglo, 3)\n",
        "    t4 = time.perf_counter()\n",
        "    tiempos_Iter.append(t4-t3)\n",
        "\n",
        "    i += 1\n",
        "\n",
        "  return [tiempos_Rec, tiempos_Iter]"
      ]
    },
    {
      "cell_type": "markdown",
      "metadata": {
        "id": "7FdnCk-rO0op"
      },
      "source": [
        "**Pregunta 8:** Cronstruya un gráfico donde se muestre como el tiempo de ejecución se incrementa con el tamaño del arreglo. En el eje horizontal debe ir el tamaño del arreglo y en el eje vertical el promedio de los tiempos obtenidos para cada caso."
      ]
    },
    {
      "cell_type": "code",
      "execution_count": 62,
      "metadata": {
        "id": "ZHBy8GBcO8O3"
      },
      "outputs": [
        {
          "data": {
            "text/plain": [
              "<function matplotlib.pyplot.show(close=None, block=None)>"
            ]
          },
          "execution_count": 62,
          "metadata": {},
          "output_type": "execute_result"
        },
        {
          "data": {
            "image/png": "[encoded data removed]",
            "text/plain": [
              "<Figure size 640x480 with 1 Axes>"
            ]
          },
          "metadata": {},
          "output_type": "display_data"
        }
      ],
      "source": [
        "import matplotlib.pyplot as plt\n",
        "\n",
        "def realizarPromedio(A):\n",
        "  largoRec = len(A[0])\n",
        "  largoIter = len(A[1])\n",
        "  i = 0\n",
        "  aux = 0\n",
        "  promRec = 0\n",
        "  promIter = 0\n",
        "  for i in range(largoRec):\n",
        "    aux += A[0][i]\n",
        "  promRec = aux/largoRec\n",
        "  i = 0\n",
        "  for i in range(largoIter):\n",
        "    aux += A[1][i]\n",
        "  promIter = aux/largoIter\n",
        "  return [promRec, promIter]\n",
        "\n",
        "datos_10 = tomarTiempos(10000, 100)\n",
        "datos_20 = tomarTiempos(20000, 100)\n",
        "datos_30 = tomarTiempos(30000, 100)\n",
        "datos_40 = tomarTiempos(40000, 100)\n",
        "\n",
        "prom1 = realizarPromedio(datos_10)\n",
        "prom2 = realizarPromedio(datos_20)\n",
        "prom3 = realizarPromedio(datos_30)\n",
        "prom4 = realizarPromedio(datos_40)\n",
        "\n",
        "g_Rec = plt.plot ([10000, 20000, 30000, 40000] , [prom1[0], prom2[0], prom3[0], prom4[0]] )\n",
        "g_Iter = plt.plot ([10000, 20000, 30000, 40000] , [prom1[1], prom2[1], prom3[1], prom4[1]] )\n",
        "plt.show\n"
      ]
    },
    {
      "cell_type": "markdown",
      "metadata": {
        "id": "sKu8lKtaTWDs"
      },
      "source": [
        "**Pregunta 9:** Compare su gráfico con la complejidad teórica.\n",
        "Concluya."
      ]
    },
    {
      "cell_type": "markdown",
      "metadata": {
        "id": "BQIOf7YYTjHh"
      },
      "source": [
        "Del gráfico podemos observar que el comportamiento práctico y el teórico son correspondientes en gran medida, pues si bien no son distribuciones lineales perfectas sí se asemejan en gran manera al comportamiento teórico."
      ]
    }
  ],
  "metadata": {
    "colab": {
      "provenance": []
    },
    "kernelspec": {
      "display_name": "Python 3",
      "name": "python3"
    },
    "language_info": {
      "codemirror_mode": {
        "name": "ipython",
        "version": 3
      },
      "file_extension": ".py",
      "mimetype": "text/x-python",
      "name": "python",
      "nbconvert_exporter": "python",
      "pygments_lexer": "ipython3",
      "version": "3.11.9"
    }
  },
  "nbformat": 4,
  "nbformat_minor": 0
}
